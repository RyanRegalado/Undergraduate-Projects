{
 "cells": [
  {
   "cell_type": "code",
   "execution_count": 88,
   "metadata": {},
   "outputs": [],
   "source": [
    "import pandas as pd"
   ]
  },
  {
   "cell_type": "markdown",
   "metadata": {},
   "source": [
    "<h1>Section 1: Dataset<h1>"
   ]
  },
  {
   "cell_type": "markdown",
   "metadata": {},
   "source": [
    "\n",
    "I chose this dataset because I love basketball and enjoy following the NBA and its season. The goal, using data science, is to find what makes a winning team, predict post-season success, and find general trends and correlations that I did not know before. This was one of the first datasets that appeared when I searched for NBA Datasets. I was between this one and another one about individual player stats. However, I felt that it would be best if I went with the team stats for simplicity. "
   ]
  },
  {
   "cell_type": "code",
   "execution_count": 89,
   "metadata": {},
   "outputs": [],
   "source": [
    "df = pd.read_csv(\"C:\\\\Users\\\\ryanj\\\\OneDrive\\\\Desktop\\\\stat107\\\\rrega3\\\\project2\\\\regular_season_totals_2010_2024.csv\")\n",
    "\n",
    "# Dataset is from Github\n",
    "\n",
    "## Link: https://github.com/NocturneBear/NBA-Data-2010-2024"
   ]
  },
  {
   "cell_type": "code",
   "execution_count": 90,
   "metadata": {},
   "outputs": [
    {
     "data": {
      "text/plain": [
       "(33316, 57)"
      ]
     },
     "execution_count": 90,
     "metadata": {},
     "output_type": "execute_result"
    }
   ],
   "source": [
    "df.shape"
   ]
  },
  {
   "cell_type": "code",
   "execution_count": 91,
   "metadata": {},
   "outputs": [
    {
     "data": {
      "text/plain": [
       "Index(['SEASON_YEAR', 'TEAM_ID', 'TEAM_ABBREVIATION', 'TEAM_NAME', 'GAME_ID',\n",
       "       'GAME_DATE', 'MATCHUP', 'WL', 'MIN', 'FGM', 'FGA', 'FG_PCT', 'FG3M',\n",
       "       'FG3A', 'FG3_PCT', 'FTM', 'FTA', 'FT_PCT', 'OREB', 'DREB', 'REB', 'AST',\n",
       "       'TOV', 'STL', 'BLK', 'BLKA', 'PF', 'PFD', 'PTS', 'PLUS_MINUS',\n",
       "       'GP_RANK', 'W_RANK', 'L_RANK', 'W_PCT_RANK', 'MIN_RANK', 'FGM_RANK',\n",
       "       'FGA_RANK', 'FG_PCT_RANK', 'FG3M_RANK', 'FG3A_RANK', 'FG3_PCT_RANK',\n",
       "       'FTM_RANK', 'FTA_RANK', 'FT_PCT_RANK', 'OREB_RANK', 'DREB_RANK',\n",
       "       'REB_RANK', 'AST_RANK', 'TOV_RANK', 'STL_RANK', 'BLK_RANK', 'BLKA_RANK',\n",
       "       'PF_RANK', 'PFD_RANK', 'PTS_RANK', 'PLUS_MINUS_RANK', 'AVAILABLE_FLAG'],\n",
       "      dtype='object')"
      ]
     },
     "execution_count": 91,
     "metadata": {},
     "output_type": "execute_result"
    }
   ],
   "source": [
    "df.columns"
   ]
  },
  {
   "cell_type": "code",
   "execution_count": 92,
   "metadata": {},
   "outputs": [
    {
     "data": {
      "text/html": [
       "<div>\n",
       "<style scoped>\n",
       "    .dataframe tbody tr th:only-of-type {\n",
       "        vertical-align: middle;\n",
       "    }\n",
       "\n",
       "    .dataframe tbody tr th {\n",
       "        vertical-align: top;\n",
       "    }\n",
       "\n",
       "    .dataframe thead th {\n",
       "        text-align: right;\n",
       "    }\n",
       "</style>\n",
       "<table border=\"1\" class=\"dataframe\">\n",
       "  <thead>\n",
       "    <tr style=\"text-align: right;\">\n",
       "      <th></th>\n",
       "      <th>TEAM_ID</th>\n",
       "      <th>GAME_ID</th>\n",
       "      <th>MIN</th>\n",
       "      <th>FGM</th>\n",
       "      <th>FGA</th>\n",
       "      <th>FG_PCT</th>\n",
       "      <th>FG3M</th>\n",
       "      <th>FG3A</th>\n",
       "      <th>FG3_PCT</th>\n",
       "      <th>FTM</th>\n",
       "      <th>...</th>\n",
       "      <th>AST_RANK</th>\n",
       "      <th>TOV_RANK</th>\n",
       "      <th>STL_RANK</th>\n",
       "      <th>BLK_RANK</th>\n",
       "      <th>BLKA_RANK</th>\n",
       "      <th>PF_RANK</th>\n",
       "      <th>PFD_RANK</th>\n",
       "      <th>PTS_RANK</th>\n",
       "      <th>PLUS_MINUS_RANK</th>\n",
       "      <th>AVAILABLE_FLAG</th>\n",
       "    </tr>\n",
       "  </thead>\n",
       "  <tbody>\n",
       "    <tr>\n",
       "      <th>count</th>\n",
       "      <td>3.331600e+04</td>\n",
       "      <td>3.331600e+04</td>\n",
       "      <td>33316.000000</td>\n",
       "      <td>33316.000000</td>\n",
       "      <td>33316.000000</td>\n",
       "      <td>33316.000000</td>\n",
       "      <td>33316.000000</td>\n",
       "      <td>33316.000000</td>\n",
       "      <td>33316.000000</td>\n",
       "      <td>33316.000000</td>\n",
       "      <td>...</td>\n",
       "      <td>33316.000000</td>\n",
       "      <td>33316.000000</td>\n",
       "      <td>33316.000000</td>\n",
       "      <td>33316.000000</td>\n",
       "      <td>33316.000000</td>\n",
       "      <td>33316.000000</td>\n",
       "      <td>33316.000000</td>\n",
       "      <td>33316.000000</td>\n",
       "      <td>33316.000000</td>\n",
       "      <td>28862.000000</td>\n",
       "    </tr>\n",
       "    <tr>\n",
       "      <th>mean</th>\n",
       "      <td>1.610613e+09</td>\n",
       "      <td>2.165283e+07</td>\n",
       "      <td>48.339776</td>\n",
       "      <td>39.359827</td>\n",
       "      <td>85.647617</td>\n",
       "      <td>0.460423</td>\n",
       "      <td>9.869852</td>\n",
       "      <td>27.547034</td>\n",
       "      <td>0.355998</td>\n",
       "      <td>17.450024</td>\n",
       "      <td>...</td>\n",
       "      <td>1128.053638</td>\n",
       "      <td>1108.546464</td>\n",
       "      <td>1077.680214</td>\n",
       "      <td>1057.020471</td>\n",
       "      <td>1057.020561</td>\n",
       "      <td>1115.424631</td>\n",
       "      <td>1115.423880</td>\n",
       "      <td>1167.676732</td>\n",
       "      <td>1169.894105</td>\n",
       "      <td>1.005544</td>\n",
       "    </tr>\n",
       "    <tr>\n",
       "      <th>std</th>\n",
       "      <td>8.651636e+00</td>\n",
       "      <td>4.023304e+05</td>\n",
       "      <td>1.469626</td>\n",
       "      <td>5.401603</td>\n",
       "      <td>7.659556</td>\n",
       "      <td>0.055579</td>\n",
       "      <td>4.254890</td>\n",
       "      <td>9.153398</td>\n",
       "      <td>0.097534</td>\n",
       "      <td>5.991188</td>\n",
       "      <td>...</td>\n",
       "      <td>691.101375</td>\n",
       "      <td>697.767364</td>\n",
       "      <td>682.948212</td>\n",
       "      <td>673.469695</td>\n",
       "      <td>708.624790</td>\n",
       "      <td>697.032428</td>\n",
       "      <td>690.331251</td>\n",
       "      <td>694.472247</td>\n",
       "      <td>695.004989</td>\n",
       "      <td>0.119930</td>\n",
       "    </tr>\n",
       "    <tr>\n",
       "      <th>min</th>\n",
       "      <td>1.610613e+09</td>\n",
       "      <td>2.100000e+07</td>\n",
       "      <td>47.985000</td>\n",
       "      <td>16.000000</td>\n",
       "      <td>59.000000</td>\n",
       "      <td>0.246000</td>\n",
       "      <td>0.000000</td>\n",
       "      <td>3.000000</td>\n",
       "      <td>0.000000</td>\n",
       "      <td>0.000000</td>\n",
       "      <td>...</td>\n",
       "      <td>1.000000</td>\n",
       "      <td>1.000000</td>\n",
       "      <td>1.000000</td>\n",
       "      <td>1.000000</td>\n",
       "      <td>1.000000</td>\n",
       "      <td>1.000000</td>\n",
       "      <td>1.000000</td>\n",
       "      <td>1.000000</td>\n",
       "      <td>1.000000</td>\n",
       "      <td>0.000000</td>\n",
       "    </tr>\n",
       "    <tr>\n",
       "      <th>25%</th>\n",
       "      <td>1.610613e+09</td>\n",
       "      <td>2.130072e+07</td>\n",
       "      <td>48.000000</td>\n",
       "      <td>36.000000</td>\n",
       "      <td>80.000000</td>\n",
       "      <td>0.422000</td>\n",
       "      <td>7.000000</td>\n",
       "      <td>21.000000</td>\n",
       "      <td>0.292000</td>\n",
       "      <td>13.000000</td>\n",
       "      <td>...</td>\n",
       "      <td>533.000000</td>\n",
       "      <td>478.000000</td>\n",
       "      <td>494.000000</td>\n",
       "      <td>512.000000</td>\n",
       "      <td>425.000000</td>\n",
       "      <td>523.000000</td>\n",
       "      <td>486.000000</td>\n",
       "      <td>557.000000</td>\n",
       "      <td>573.000000</td>\n",
       "      <td>1.000000</td>\n",
       "    </tr>\n",
       "    <tr>\n",
       "      <th>50%</th>\n",
       "      <td>1.610613e+09</td>\n",
       "      <td>2.160119e+07</td>\n",
       "      <td>48.000000</td>\n",
       "      <td>39.000000</td>\n",
       "      <td>85.000000</td>\n",
       "      <td>0.459000</td>\n",
       "      <td>10.000000</td>\n",
       "      <td>27.000000</td>\n",
       "      <td>0.355000</td>\n",
       "      <td>17.000000</td>\n",
       "      <td>...</td>\n",
       "      <td>1099.000000</td>\n",
       "      <td>1059.000000</td>\n",
       "      <td>1036.000000</td>\n",
       "      <td>983.000000</td>\n",
       "      <td>1008.000000</td>\n",
       "      <td>1110.000000</td>\n",
       "      <td>1059.000000</td>\n",
       "      <td>1145.000000</td>\n",
       "      <td>1174.000000</td>\n",
       "      <td>1.000000</td>\n",
       "    </tr>\n",
       "    <tr>\n",
       "      <th>75%</th>\n",
       "      <td>1.610613e+09</td>\n",
       "      <td>2.200061e+07</td>\n",
       "      <td>48.000000</td>\n",
       "      <td>43.000000</td>\n",
       "      <td>91.000000</td>\n",
       "      <td>0.500000</td>\n",
       "      <td>13.000000</td>\n",
       "      <td>34.000000</td>\n",
       "      <td>0.419000</td>\n",
       "      <td>21.000000</td>\n",
       "      <td>...</td>\n",
       "      <td>1696.000000</td>\n",
       "      <td>1716.000000</td>\n",
       "      <td>1605.000000</td>\n",
       "      <td>1635.000000</td>\n",
       "      <td>1636.000000</td>\n",
       "      <td>1672.000000</td>\n",
       "      <td>1720.000000</td>\n",
       "      <td>1748.000000</td>\n",
       "      <td>1743.000000</td>\n",
       "      <td>1.000000</td>\n",
       "    </tr>\n",
       "    <tr>\n",
       "      <th>max</th>\n",
       "      <td>1.610613e+09</td>\n",
       "      <td>2.230123e+07</td>\n",
       "      <td>68.000000</td>\n",
       "      <td>65.000000</td>\n",
       "      <td>129.000000</td>\n",
       "      <td>0.687000</td>\n",
       "      <td>29.000000</td>\n",
       "      <td>70.000000</td>\n",
       "      <td>0.842000</td>\n",
       "      <td>52.000000</td>\n",
       "      <td>...</td>\n",
       "      <td>2460.000000</td>\n",
       "      <td>2460.000000</td>\n",
       "      <td>2459.000000</td>\n",
       "      <td>2437.000000</td>\n",
       "      <td>2460.000000</td>\n",
       "      <td>2460.000000</td>\n",
       "      <td>2460.000000</td>\n",
       "      <td>2460.000000</td>\n",
       "      <td>2460.000000</td>\n",
       "      <td>2.000000</td>\n",
       "    </tr>\n",
       "  </tbody>\n",
       "</table>\n",
       "<p>8 rows × 51 columns</p>\n",
       "</div>"
      ],
      "text/plain": [
       "            TEAM_ID       GAME_ID           MIN           FGM           FGA  \\\n",
       "count  3.331600e+04  3.331600e+04  33316.000000  33316.000000  33316.000000   \n",
       "mean   1.610613e+09  2.165283e+07     48.339776     39.359827     85.647617   \n",
       "std    8.651636e+00  4.023304e+05      1.469626      5.401603      7.659556   \n",
       "min    1.610613e+09  2.100000e+07     47.985000     16.000000     59.000000   \n",
       "25%    1.610613e+09  2.130072e+07     48.000000     36.000000     80.000000   \n",
       "50%    1.610613e+09  2.160119e+07     48.000000     39.000000     85.000000   \n",
       "75%    1.610613e+09  2.200061e+07     48.000000     43.000000     91.000000   \n",
       "max    1.610613e+09  2.230123e+07     68.000000     65.000000    129.000000   \n",
       "\n",
       "             FG_PCT          FG3M          FG3A       FG3_PCT           FTM  \\\n",
       "count  33316.000000  33316.000000  33316.000000  33316.000000  33316.000000   \n",
       "mean       0.460423      9.869852     27.547034      0.355998     17.450024   \n",
       "std        0.055579      4.254890      9.153398      0.097534      5.991188   \n",
       "min        0.246000      0.000000      3.000000      0.000000      0.000000   \n",
       "25%        0.422000      7.000000     21.000000      0.292000     13.000000   \n",
       "50%        0.459000     10.000000     27.000000      0.355000     17.000000   \n",
       "75%        0.500000     13.000000     34.000000      0.419000     21.000000   \n",
       "max        0.687000     29.000000     70.000000      0.842000     52.000000   \n",
       "\n",
       "       ...      AST_RANK      TOV_RANK      STL_RANK      BLK_RANK  \\\n",
       "count  ...  33316.000000  33316.000000  33316.000000  33316.000000   \n",
       "mean   ...   1128.053638   1108.546464   1077.680214   1057.020471   \n",
       "std    ...    691.101375    697.767364    682.948212    673.469695   \n",
       "min    ...      1.000000      1.000000      1.000000      1.000000   \n",
       "25%    ...    533.000000    478.000000    494.000000    512.000000   \n",
       "50%    ...   1099.000000   1059.000000   1036.000000    983.000000   \n",
       "75%    ...   1696.000000   1716.000000   1605.000000   1635.000000   \n",
       "max    ...   2460.000000   2460.000000   2459.000000   2437.000000   \n",
       "\n",
       "          BLKA_RANK       PF_RANK      PFD_RANK      PTS_RANK  \\\n",
       "count  33316.000000  33316.000000  33316.000000  33316.000000   \n",
       "mean    1057.020561   1115.424631   1115.423880   1167.676732   \n",
       "std      708.624790    697.032428    690.331251    694.472247   \n",
       "min        1.000000      1.000000      1.000000      1.000000   \n",
       "25%      425.000000    523.000000    486.000000    557.000000   \n",
       "50%     1008.000000   1110.000000   1059.000000   1145.000000   \n",
       "75%     1636.000000   1672.000000   1720.000000   1748.000000   \n",
       "max     2460.000000   2460.000000   2460.000000   2460.000000   \n",
       "\n",
       "       PLUS_MINUS_RANK  AVAILABLE_FLAG  \n",
       "count     33316.000000    28862.000000  \n",
       "mean       1169.894105        1.005544  \n",
       "std         695.004989        0.119930  \n",
       "min           1.000000        0.000000  \n",
       "25%         573.000000        1.000000  \n",
       "50%        1174.000000        1.000000  \n",
       "75%        1743.000000        1.000000  \n",
       "max        2460.000000        2.000000  \n",
       "\n",
       "[8 rows x 51 columns]"
      ]
     },
     "execution_count": 92,
     "metadata": {},
     "output_type": "execute_result"
    }
   ],
   "source": [
    "df.describe()"
   ]
  },
  {
   "cell_type": "code",
   "execution_count": 93,
   "metadata": {},
   "outputs": [
    {
     "name": "stdout",
     "output_type": "stream",
     "text": [
      "2460\n",
      "2460\n"
     ]
    }
   ],
   "source": [
    "## Filtering to only include the 2022-23 Season in order to look at this dataset further.\n",
    "\n",
    "df2023 = df[df.SEASON_YEAR == '2022-23'].reset_index()  ## making sure to reset index before pd.concat. Note for the future--caused lots of anguish figuring out the problem.\n",
    "data = []\n",
    "for i in range (len(df2023)):\n",
    "    if df2023.iloc[i]['WL'] == 'W':   ## The iloc discovery page also used NBA teams as examples. Interesting :)\n",
    "        count = 1\n",
    "    else:\n",
    "        count = 0\n",
    "    d = {'wins': count}\n",
    "    data.append(d)\n",
    "g = pd.DataFrame(data)\n",
    "print(len(g))\n",
    "print(len(df2023))\n",
    "\n",
    "df2023 = pd.concat([df2023,g], axis = 1)"
   ]
  },
  {
   "cell_type": "code",
   "execution_count": 94,
   "metadata": {},
   "outputs": [
    {
     "data": {
      "text/plain": [
       "(2460, 59)"
      ]
     },
     "execution_count": 94,
     "metadata": {},
     "output_type": "execute_result"
    }
   ],
   "source": [
    "df2023.shape"
   ]
  },
  {
   "cell_type": "markdown",
   "metadata": {},
   "source": [
    "After messing with groupby, I realized it was hard to get a total win column because the wins/losses were represented as Ws and Ls. So, I appended a wins and loss columns and used 1s and 0s (Wins column has a 1 everytime df['W/L'] has a 'W') so that when I use groupby, I can get a numeric value.\n",
    "\n",
    "This probably could have been done using: WIN_PCT * 82 games, but this makes it so the groupby function later can sum the total amount wins in the last column (if using agg by sum)"
   ]
  },
  {
   "cell_type": "markdown",
   "metadata": {},
   "source": [
    "---------------------------------------------------------------------------------------------------------------------------------------"
   ]
  },
  {
   "cell_type": "markdown",
   "metadata": {},
   "source": [
    "<h1>Section 2: EDA"
   ]
  },
  {
   "cell_type": "markdown",
   "metadata": {},
   "source": [
    "I will look at mean and standard deviation of wins in the east vs. the west."
   ]
  },
  {
   "cell_type": "code",
   "execution_count": 95,
   "metadata": {},
   "outputs": [],
   "source": [
    "df2023 = df2023.groupby('TEAM_ABBREVIATION').agg('sum', numeric_only =True).reset_index() ## Categorizing by team\n",
    "\n",
    "def defense(df):\n",
    "    df = df.filter(regex = '^TEAM_ABBREVIATION|STL|BLK|PLUS_MINUS|DREB|PF|win')\n",
    "    return df\n",
    "\n",
    "def offense(df):\n",
    "    df = df.filter(regex = '^TEAM_ABBREVIATION|FG|FT|OREB|AST|PTS|PLUS_MINUS|PFD|TO|win')  ## Borrowed this filtering process from the notebook as well as another project I am working on through the DS Club. \n",
    "    return df\n",
    "\n",
    "east = df2023[(df2023['TEAM_ABBREVIATION'] == 'CLE') | (df2023['TEAM_ABBREVIATION'] == 'BOS') | (df2023['TEAM_ABBREVIATION'] == 'ORL') | (df2023['TEAM_ABBREVIATION'] == 'NYK') | (df2023['TEAM_ABBREVIATION'] == 'IND') | (df2023['TEAM_ABBREVIATION'] == 'BKN') | (df2023['TEAM_ABBREVIATION'] == 'DET') | (df2023['TEAM_ABBREVIATION'] == 'ATL') | (df2023['TEAM_ABBREVIATION'] == 'MIA') | (df2023['TEAM_ABBREVIATION'] == 'CHI') | (df2023['TEAM_ABBREVIATION'] == 'CHA') | (df2023['TEAM_ABBREVIATION'] == 'MIL') | (df2023['TEAM_ABBREVIATION'] == 'WAS') | (df2023['TEAM_ABBREVIATION'] == 'PHI') | (df2023['TEAM_ABBREVIATION'] == 'TOR')] \n",
    "west = df2023[(df2023['TEAM_ABBREVIATION'] == 'PHX') | (df2023['TEAM_ABBREVIATION'] == 'OKC') | (df2023['TEAM_ABBREVIATION'] == 'GSW') | (df2023['TEAM_ABBREVIATION'] == 'DEN') | (df2023['TEAM_ABBREVIATION'] == 'HOU') | (df2023['TEAM_ABBREVIATION'] == 'MEM') | (df2023['TEAM_ABBREVIATION'] == 'LAL') | (df2023['TEAM_ABBREVIATION'] == 'LAC') | (df2023['TEAM_ABBREVIATION'] == 'MIN') | (df2023['TEAM_ABBREVIATION'] == 'SAC') | (df2023['TEAM_ABBREVIATION'] == 'DAL') | (df2023['TEAM_ABBREVIATION'] == 'SAS') | (df2023['TEAM_ABBREVIATION'] == 'POR') | (df2023['TEAM_ABBREVIATION'] == 'NOP') | (df2023['TEAM_ABBREVIATION'] == 'UTA')] \n"
   ]
  },
  {
   "cell_type": "code",
   "execution_count": 96,
   "metadata": {},
   "outputs": [
    {
     "name": "stdout",
     "output_type": "stream",
     "text": [
      "42\n",
      "11\n",
      "40\n",
      "9\n"
     ]
    }
   ],
   "source": [
    "print(round(east['wins'].mean()))\n",
    "print(round(east['wins'].std()))\n",
    "print(round(west['wins'].mean()))\n",
    "print(round(west['wins'].std()))\n",
    "\n"
   ]
  },
  {
   "cell_type": "markdown",
   "metadata": {},
   "source": [
    "The standard deviation in the east is slightly larger, meaning that extreme win/loss records are more common. There must be a greater disparity between the best team and the worst team in the east. For the western conference, the standard deviation is lower, suggesting that teams are more competitive in the west than the east. "
   ]
  },
  {
   "cell_type": "markdown",
   "metadata": {},
   "source": [
    "Noteable code from above:\n",
    "\n",
    "-- Created a funciton to separate Offensive and Defensive statistical categories from the dataset.\n",
    "\n",
    "-- Split the West and East NBA teams\n",
    "\n",
    "-- NOTE: For RANKed categories, lower numbers = better"
   ]
  },
  {
   "cell_type": "markdown",
   "metadata": {},
   "source": [
    "----------------------------------------------------------------------------------------------------------------------------------------------------------------------------------------------------------------------------------------------------------------"
   ]
  },
  {
   "cell_type": "markdown",
   "metadata": {},
   "source": [
    "<h1>Section 3: Exploratory Data Visualization"
   ]
  },
  {
   "cell_type": "code",
   "execution_count": 97,
   "metadata": {},
   "outputs": [
    {
     "data": {
      "text/plain": [
       "<Axes: title={'center': 'Field Goal Percentage per Team'}, xlabel='Field Goal Percentage', ylabel='TEAM_ABBREVIATION'>"
      ]
     },
     "execution_count": 97,
     "metadata": {},
     "output_type": "execute_result"
    },
    {
     "data": {
      "image/png": "[encoded data removed]",
      "text/plain": [
       "<Figure size 640x480 with 1 Axes>"
      ]
     },
     "metadata": {},
     "output_type": "display_data"
    }
   ],
   "source": [
    "df2023.plot.barh(x = 'TEAM_ABBREVIATION', y = 'FG_PCT', fontsize = 7, title = 'Field Goal Percentage per Team', xlabel = 'Field Goal Percentage')"
   ]
  },
  {
   "cell_type": "markdown",
   "metadata": {},
   "source": [
    "This graphic is hard to read and really doesn't say much about the teams. Does it change by looking a smaller portion of the teams?"
   ]
  },
  {
   "cell_type": "code",
   "execution_count": 98,
   "metadata": {},
   "outputs": [
    {
     "data": {
      "text/plain": [
       "<Axes: title={'center': 'Field Goal Percentage per Western Conference Teams'}, xlabel='Field Goal Percentage', ylabel='TEAM_ABBREVIATION'>"
      ]
     },
     "execution_count": 98,
     "metadata": {},
     "output_type": "execute_result"
    },
    {
     "data": {
      "image/png": "[encoded data removed]",
      "text/plain": [
       "<Figure size 640x480 with 1 Axes>"
      ]
     },
     "metadata": {},
     "output_type": "display_data"
    }
   ],
   "source": [
    "west.plot.barh(x = 'TEAM_ABBREVIATION', y = 'FG_PCT', xlabel = 'Field Goal Percentage', title = 'Field Goal Percentage per Western Conference Teams')"
   ]
  },
  {
   "cell_type": "markdown",
   "metadata": {},
   "source": [
    "Same here, the West breakdown doesn't give much. Moving forward, I am going to compare metrics to wins, which can be a telling sign of success. "
   ]
  },
  {
   "cell_type": "code",
   "execution_count": 99,
   "metadata": {},
   "outputs": [
    {
     "data": {
      "text/html": [
       "<div>\n",
       "<style scoped>\n",
       "    .dataframe tbody tr th:only-of-type {\n",
       "        vertical-align: middle;\n",
       "    }\n",
       "\n",
       "    .dataframe tbody tr th {\n",
       "        vertical-align: top;\n",
       "    }\n",
       "\n",
       "    .dataframe thead th {\n",
       "        text-align: right;\n",
       "    }\n",
       "</style>\n",
       "<table border=\"1\" class=\"dataframe\">\n",
       "  <thead>\n",
       "    <tr style=\"text-align: right;\">\n",
       "      <th></th>\n",
       "      <th>TEAM_ABBREVIATION</th>\n",
       "      <th>FG_PCT</th>\n",
       "      <th>wins</th>\n",
       "    </tr>\n",
       "  </thead>\n",
       "  <tbody>\n",
       "    <tr>\n",
       "      <th>7</th>\n",
       "      <td>DEN</td>\n",
       "      <td>41.440</td>\n",
       "      <td>53</td>\n",
       "    </tr>\n",
       "    <tr>\n",
       "      <th>25</th>\n",
       "      <td>SAC</td>\n",
       "      <td>40.555</td>\n",
       "      <td>48</td>\n",
       "    </tr>\n",
       "    <tr>\n",
       "      <th>17</th>\n",
       "      <td>MIN</td>\n",
       "      <td>40.347</td>\n",
       "      <td>42</td>\n",
       "    </tr>\n",
       "    <tr>\n",
       "      <th>13</th>\n",
       "      <td>LAL</td>\n",
       "      <td>39.614</td>\n",
       "      <td>43</td>\n",
       "    </tr>\n",
       "    <tr>\n",
       "      <th>18</th>\n",
       "      <td>NOP</td>\n",
       "      <td>39.471</td>\n",
       "      <td>42</td>\n",
       "    </tr>\n",
       "    <tr>\n",
       "      <th>9</th>\n",
       "      <td>GSW</td>\n",
       "      <td>39.343</td>\n",
       "      <td>44</td>\n",
       "    </tr>\n",
       "    <tr>\n",
       "      <th>12</th>\n",
       "      <td>LAC</td>\n",
       "      <td>39.283</td>\n",
       "      <td>44</td>\n",
       "    </tr>\n",
       "    <tr>\n",
       "      <th>6</th>\n",
       "      <td>DAL</td>\n",
       "      <td>39.055</td>\n",
       "      <td>38</td>\n",
       "    </tr>\n",
       "    <tr>\n",
       "      <th>14</th>\n",
       "      <td>MEM</td>\n",
       "      <td>38.969</td>\n",
       "      <td>51</td>\n",
       "    </tr>\n",
       "    <tr>\n",
       "      <th>24</th>\n",
       "      <td>POR</td>\n",
       "      <td>38.931</td>\n",
       "      <td>33</td>\n",
       "    </tr>\n",
       "    <tr>\n",
       "      <th>28</th>\n",
       "      <td>UTA</td>\n",
       "      <td>38.880</td>\n",
       "      <td>37</td>\n",
       "    </tr>\n",
       "    <tr>\n",
       "      <th>23</th>\n",
       "      <td>PHX</td>\n",
       "      <td>38.384</td>\n",
       "      <td>45</td>\n",
       "    </tr>\n",
       "    <tr>\n",
       "      <th>26</th>\n",
       "      <td>SAS</td>\n",
       "      <td>38.328</td>\n",
       "      <td>22</td>\n",
       "    </tr>\n",
       "    <tr>\n",
       "      <th>20</th>\n",
       "      <td>OKC</td>\n",
       "      <td>38.260</td>\n",
       "      <td>40</td>\n",
       "    </tr>\n",
       "    <tr>\n",
       "      <th>10</th>\n",
       "      <td>HOU</td>\n",
       "      <td>37.491</td>\n",
       "      <td>22</td>\n",
       "    </tr>\n",
       "  </tbody>\n",
       "</table>\n",
       "</div>"
      ],
      "text/plain": [
       "   TEAM_ABBREVIATION  FG_PCT  wins\n",
       "7                DEN  41.440    53\n",
       "25               SAC  40.555    48\n",
       "17               MIN  40.347    42\n",
       "13               LAL  39.614    43\n",
       "18               NOP  39.471    42\n",
       "9                GSW  39.343    44\n",
       "12               LAC  39.283    44\n",
       "6                DAL  39.055    38\n",
       "14               MEM  38.969    51\n",
       "24               POR  38.931    33\n",
       "28               UTA  38.880    37\n",
       "23               PHX  38.384    45\n",
       "26               SAS  38.328    22\n",
       "20               OKC  38.260    40\n",
       "10               HOU  37.491    22"
      ]
     },
     "execution_count": 99,
     "metadata": {},
     "output_type": "execute_result"
    }
   ],
   "source": [
    "test = west[['TEAM_ABBREVIATION','FG_PCT','wins']]\n",
    "test.nlargest(15, 'FG_PCT')"
   ]
  },
  {
   "cell_type": "code",
   "execution_count": 100,
   "metadata": {},
   "outputs": [
    {
     "data": {
      "text/plain": [
       "<Axes: title={'center': 'Wins vs. Field Goal Percentage'}, xlabel='Field Goal Percentage', ylabel='Wins'>"
      ]
     },
     "execution_count": 100,
     "metadata": {},
     "output_type": "execute_result"
    },
    {
     "data": {
      "image/png": "[encoded data removed]",
      "text/plain": [
       "<Figure size 640x480 with 1 Axes>"
      ]
     },
     "metadata": {},
     "output_type": "display_data"
    }
   ],
   "source": [
    "test.plot.scatter(y = 'wins', x = 'FG_PCT', ylabel = 'Wins', xlabel = 'Field Goal Percentage', title = 'Wins vs. Field Goal Percentage')"
   ]
  },
  {
   "cell_type": "markdown",
   "metadata": {},
   "source": [
    "Seems like a positive correlation between Field Goal Percentage efficiency and wins. From here, I am going to use the full dataset that includes the East and West because this scatter seems empty. Plus, I have no reason to distinguish the two for now. "
   ]
  },
  {
   "cell_type": "code",
   "execution_count": 101,
   "metadata": {},
   "outputs": [
    {
     "data": {
      "text/plain": [
       "<Axes: title={'center': 'Wins vs. Plus Minus'}, xlabel='Accumulative Plus Minus', ylabel='Wins'>"
      ]
     },
     "execution_count": 101,
     "metadata": {},
     "output_type": "execute_result"
    },
    {
     "data": {
      "image/png": "[encoded data removed]",
      "text/plain": [
       "<Figure size 640x480 with 1 Axes>"
      ]
     },
     "metadata": {},
     "output_type": "display_data"
    }
   ],
   "source": [
    "champs = ['blue','blue','blue', 'blue','blue', 'blue','blue', 'red','blue', 'blue','blue', 'blue','blue', 'blue','blue', 'blue' ,'blue','blue','blue', 'blue','blue', 'blue','blue', 'blue','blue', 'blue','blue', 'blue','blue', 'blue']  ### Made the red dot the Denver Nuggets (index = 7)\n",
    "test2 = df2023[['TEAM_ABBREVIATION', 'PLUS_MINUS', 'wins']]\n",
    "test2.plot.scatter(x = 'PLUS_MINUS', y = 'wins', color = champs, xlabel = 'Accumulative Plus Minus', ylabel = 'Wins', title = 'Wins vs. Plus Minus')"
   ]
  },
  {
   "cell_type": "markdown",
   "metadata": {},
   "source": [
    "Seems like a very strong correlation between plus-minus and wins. Both of these graphs make very good sense--if a team wins, their plus minus is positive. My coach also insisted on looking at players' plus-minus to determine playing time. It is a very telling statistic of success, clearly. I wonder if we are going to learn how to calculate correlation in Python. It seems that this would have a high r value.\n",
    "\n",
    "NOTE: I used assistance to find out how to color a certain dot. I did not come up with this myself. "
   ]
  },
  {
   "cell_type": "code",
   "execution_count": 102,
   "metadata": {},
   "outputs": [
    {
     "data": {
      "text/plain": [
       "<Axes: title={'center': 'Wins vs. Free Throws Made'}, xlabel='Free Throws Made', ylabel='Wins'>"
      ]
     },
     "execution_count": 102,
     "metadata": {},
     "output_type": "execute_result"
    },
    {
     "data": {
      "image/png": "[encoded data removed]",
      "text/plain": [
       "<Figure size 640x480 with 1 Axes>"
      ]
     },
     "metadata": {},
     "output_type": "display_data"
    }
   ],
   "source": [
    "champs = ['blue','blue','blue', 'blue','blue', 'blue','blue', 'red','blue', 'blue','blue', 'blue','blue', 'blue','blue', 'blue' ,'blue','blue','blue', 'blue','blue', 'blue','blue', 'blue','blue', 'blue','blue', 'blue','blue', 'blue']  ### Made the red dot the Denver Nuggets (index = 7)\n",
    "\n",
    "\n",
    "test3 = df2023[['TEAM_ABBREVIATION', 'FTM', 'wins']]\n",
    "test3.plot.scatter(x = 'FTM', y = 'wins', color=champs, xlabel = 'Free Throws Made', ylabel = 'Wins', title = 'Wins vs. Free Throws Made')"
   ]
  },
  {
   "cell_type": "markdown",
   "metadata": {},
   "source": [
    "Picking randomly from the list, I chose FTM. The previous two stats I compared with wins were hunches I had, but FTM was an arbitrary choice. FTM seems like it is not a major contributing factor to wins. "
   ]
  },
  {
   "cell_type": "markdown",
   "metadata": {},
   "source": [
    "!!! Now lets try some defensive stats !!!"
   ]
  },
  {
   "cell_type": "code",
   "execution_count": 103,
   "metadata": {},
   "outputs": [
    {
     "name": "stderr",
     "output_type": "stream",
     "text": [
      "C:\\Users\\ryanj\\AppData\\Local\\Temp\\ipykernel_25948\\241216759.py:5: SettingWithCopyWarning: \n",
      "A value is trying to be set on a copy of a slice from a DataFrame.\n",
      "Try using .loc[row_indexer,col_indexer] = value instead\n",
      "\n",
      "See the caveats in the documentation: https://pandas.pydata.org/pandas-docs/stable/user_guide/indexing.html#returning-a-view-versus-a-copy\n",
      "  test4['DEF_Metric'] = test4['BLK'] + test4['STL'] + test4['DREB']\n"
     ]
    },
    {
     "data": {
      "image/png": "[encoded data removed]",
      "text/plain": [
       "<Figure size 640x480 with 1 Axes>"
      ]
     },
     "metadata": {},
     "output_type": "display_data"
    }
   ],
   "source": [
    "test4 = defense(df2023)\n",
    "\n",
    "champs = ['blue','blue','blue', 'blue','blue', 'blue','blue', 'red','blue', 'blue','blue', 'blue','blue', 'blue','blue', 'blue' ,'blue','blue','blue', 'blue','blue', 'blue','blue', 'blue','blue', 'blue','blue', 'blue','blue', 'blue']  ### Made the red dot the Denver Nuggets (index = 7)\n",
    " \n",
    "test4['DEF_Metric'] = test4['BLK'] + test4['STL'] + test4['DREB']\n",
    "test4[['TEAM_ABBREVIATION', 'DEF_Metric', 'wins']]\n",
    "test4.plot.scatter(x = 'DEF_Metric', y = 'wins', color = champs, xlabel = \"Ryan's Defensive Metric Score\", ylabel = 'Wins', title = 'Wins vs. Defensive Score Rating')\n",
    "\n",
    "\n",
    "g = test4[['TEAM_ABBREVIATION', 'DEF_Metric', 'wins']].nlargest(20, 'DEF_Metric').reset_index()   ### 2022-23 Champions Denver Nuggets (DEN) ranked 16th in my defensive metric. This is just an observation I wanted to make. "
   ]
  },
  {
   "cell_type": "markdown",
   "metadata": {},
   "source": [
    "There appears to be a positive correlation between wins and the Defensive Metric I created (simply steals + blocks + defensive rebounds). I wanted to see where the 2022-23 champions ranked as well using g. Above I noted that they were 16th in the metric. I guess all of my coaches were right when they said defense wins championships (shown in red). At some point I will find a way to distinguish the dots to their respective teams. I might also find a way to color code by success in the playoffs (e.g. Conference Finals Winner and Runner Up will be a certain color)\n",
    "\n",
    "Also, I am not sure what the warning above means:\n",
    "\n",
    "C:\\Users\\ryanj\\AppData\\Local\\Temp\\ipykernel_7044\\324676377.py:5: SettingWithCopyWarning: \n",
    "A value is trying to be set on a copy of a slice from a DataFrame.\n",
    "Try using .loc[row_indexer,col_indexer] = value instead\n",
    "\n",
    "It says that it might be the result of the way I created a new column in 'test4'. "
   ]
  },
  {
   "cell_type": "markdown",
   "metadata": {},
   "source": [
    "----------------------------------------------------------------------------------------------------------------------------------------------------------------------------------------------------------------"
   ]
  },
  {
   "cell_type": "markdown",
   "metadata": {},
   "source": [
    "<h1>Section 4: Planning for Part II"
   ]
  },
  {
   "cell_type": "markdown",
   "metadata": {},
   "source": [
    "\n",
    "Observations: I have descriptive stats for each team in the 2022-23 season stored in df2023. However, the full dataset includes seasons that date back to 2010. Given this, I can potentially create a pivot table similar to the boston marathon microproject which will compare a team vs the year and plot either wins, field goal percentage, plus_minus, etc. It would be really fascinating to compare team success over the years. So, I could compare a decade's worth of data, or I could focus more on a single season I am interested in, perhaps the Golden State Warriors' 73-9 season in 2016. In this season I could use z-tests and such to find out how rare of a win/loss record that would be. \n",
    "\n",
    "Ideas/Questions: I want to know if it is possible to predict the next season's NBA champion based on the previous' seasons data. I have simple statistics, but it may be possible to notice trends in winning teams."
   ]
  },
  {
   "cell_type": "markdown",
   "metadata": {},
   "source": [
    "____________________________________________________________________________________________________________________________________"
   ]
  },
  {
   "cell_type": "markdown",
   "metadata": {},
   "source": [
    "**<h1>Part II</h1>**\n",
    "<h1>Section 5: Data Science</h1>"
   ]
  },
  {
   "cell_type": "markdown",
   "metadata": {},
   "source": [
    "<h2>Question: Do Western Conference teams beat their Eastern Conference rivals more often?</h2>\n",
    "\n",
    "I switched my question because I would rather do a hypothesis test because I am more familiar with it. ALSO, this would settle a growing argument amongst NBA \"experts\" (social media comment section). The goal of this analysis is to see if the western conference is overall stronger compared to its eastern conference counter part.\n",
    "\n",
    "Steps:\n",
    "- State Hypothesis: Null: $p1$ = $p2$. Alternative $p1$ > $p2$. Where, $p1$: 'Western Conference out of conference win rate' and $p2$: 'Eastern Conference out of conference win rate'.\n",
    "\n",
    "- Define each game/row's TEAM (1) , OPP (2), TEAM Conference & OPP Conference (3). \n",
    "\n",
    "(1) TEAM is given in TEAM_ABBREVIATION. \n",
    "\n",
    "(2) Opponents are ALWAYS labeled as the last three characters in the string in the MATCHUP column. Slicing the last three characters provides the opponent in the same format as TEAM_ABBREVIATION (3 Upper case letters). I will put this in a column.\n",
    "\n",
    "(3) I will use a for loop to check the conference of each team. Using a giant \"if statement\" that checks the TEAM/OPP abbreviation of each row in the datafame, I can assign a team either to the east or west conference.\n",
    "\n",
    "- Create a win tally that outputs two new columns to the dataframe. The columns are west_wins and east_wins. It is based on the 'WL' column and the conference of the team in a specified row. For example, when looking at a team from the west, the function will output a 1 in the west_wins column if the team is from the western conference and won that game. Another instance is if a team is from the east and they lose, the west_wins column gets a 1. It outputs a 0 otherwise. The same goes for the east_wins column.  \n",
    "\n",
    "- Filter the dataframe into only Non-conference matchups. This is done by using a conditional statement that checks to see that the TEAM_ABBREVIATION and OPP are not equal. \n",
    "\n",
    "- Perform hypothesis test using the win rate of non-conference matchups for each conference.\n"
   ]
  },
  {
   "cell_type": "code",
   "execution_count": 104,
   "metadata": {},
   "outputs": [
    {
     "data": {
      "text/html": [
       "<div>\n",
       "<style scoped>\n",
       "    .dataframe tbody tr th:only-of-type {\n",
       "        vertical-align: middle;\n",
       "    }\n",
       "\n",
       "    .dataframe tbody tr th {\n",
       "        vertical-align: top;\n",
       "    }\n",
       "\n",
       "    .dataframe thead th {\n",
       "        text-align: right;\n",
       "    }\n",
       "</style>\n",
       "<table border=\"1\" class=\"dataframe\">\n",
       "  <thead>\n",
       "    <tr style=\"text-align: right;\">\n",
       "      <th></th>\n",
       "      <th>SEASON_YEAR</th>\n",
       "      <th>TEAM_ID</th>\n",
       "      <th>TEAM_ABBREVIATION</th>\n",
       "      <th>TEAM_NAME</th>\n",
       "      <th>GAME_ID</th>\n",
       "      <th>GAME_DATE</th>\n",
       "      <th>MATCHUP</th>\n",
       "      <th>WL</th>\n",
       "      <th>MIN</th>\n",
       "      <th>FGM</th>\n",
       "      <th>...</th>\n",
       "      <th>AST_RANK</th>\n",
       "      <th>TOV_RANK</th>\n",
       "      <th>STL_RANK</th>\n",
       "      <th>BLK_RANK</th>\n",
       "      <th>BLKA_RANK</th>\n",
       "      <th>PF_RANK</th>\n",
       "      <th>PFD_RANK</th>\n",
       "      <th>PTS_RANK</th>\n",
       "      <th>PLUS_MINUS_RANK</th>\n",
       "      <th>AVAILABLE_FLAG</th>\n",
       "    </tr>\n",
       "  </thead>\n",
       "  <tbody>\n",
       "    <tr>\n",
       "      <th>0</th>\n",
       "      <td>2022-23</td>\n",
       "      <td>1610612744</td>\n",
       "      <td>GSW</td>\n",
       "      <td>Golden State Warriors</td>\n",
       "      <td>22201230</td>\n",
       "      <td>2023-04-09T00:00:00</td>\n",
       "      <td>GSW @ POR</td>\n",
       "      <td>W</td>\n",
       "      <td>48.0</td>\n",
       "      <td>58</td>\n",
       "      <td>...</td>\n",
       "      <td>1</td>\n",
       "      <td>1578</td>\n",
       "      <td>55</td>\n",
       "      <td>512</td>\n",
       "      <td>457</td>\n",
       "      <td>678</td>\n",
       "      <td>2455</td>\n",
       "      <td>3</td>\n",
       "      <td>1</td>\n",
       "      <td>1.0</td>\n",
       "    </tr>\n",
       "    <tr>\n",
       "      <th>1</th>\n",
       "      <td>2020-21</td>\n",
       "      <td>1610612749</td>\n",
       "      <td>MIL</td>\n",
       "      <td>Milwaukee Bucks</td>\n",
       "      <td>22000051</td>\n",
       "      <td>2020-12-29T00:00:00</td>\n",
       "      <td>MIL @ MIA</td>\n",
       "      <td>W</td>\n",
       "      <td>48.0</td>\n",
       "      <td>51</td>\n",
       "      <td>...</td>\n",
       "      <td>146</td>\n",
       "      <td>1636</td>\n",
       "      <td>33</td>\n",
       "      <td>1830</td>\n",
       "      <td>1361</td>\n",
       "      <td>1552</td>\n",
       "      <td>1220</td>\n",
       "      <td>14</td>\n",
       "      <td>7</td>\n",
       "      <td>1.0</td>\n",
       "    </tr>\n",
       "    <tr>\n",
       "      <th>2</th>\n",
       "      <td>2013-14</td>\n",
       "      <td>1610612751</td>\n",
       "      <td>BKN</td>\n",
       "      <td>Brooklyn Nets</td>\n",
       "      <td>21300359</td>\n",
       "      <td>2013-12-16T00:00:00</td>\n",
       "      <td>BKN vs. PHI</td>\n",
       "      <td>W</td>\n",
       "      <td>48.0</td>\n",
       "      <td>47</td>\n",
       "      <td>...</td>\n",
       "      <td>22</td>\n",
       "      <td>2280</td>\n",
       "      <td>406</td>\n",
       "      <td>1979</td>\n",
       "      <td>1</td>\n",
       "      <td>1004</td>\n",
       "      <td>453</td>\n",
       "      <td>19</td>\n",
       "      <td>12</td>\n",
       "      <td>1.0</td>\n",
       "    </tr>\n",
       "    <tr>\n",
       "      <th>3</th>\n",
       "      <td>2013-14</td>\n",
       "      <td>1610612757</td>\n",
       "      <td>POR</td>\n",
       "      <td>Portland Trail Blazers</td>\n",
       "      <td>21300347</td>\n",
       "      <td>2013-12-14T00:00:00</td>\n",
       "      <td>POR @ PHI</td>\n",
       "      <td>W</td>\n",
       "      <td>48.0</td>\n",
       "      <td>52</td>\n",
       "      <td>...</td>\n",
       "      <td>2</td>\n",
       "      <td>2065</td>\n",
       "      <td>628</td>\n",
       "      <td>204</td>\n",
       "      <td>1269</td>\n",
       "      <td>272</td>\n",
       "      <td>2190</td>\n",
       "      <td>4</td>\n",
       "      <td>15</td>\n",
       "      <td>1.0</td>\n",
       "    </tr>\n",
       "    <tr>\n",
       "      <th>4</th>\n",
       "      <td>2018-19</td>\n",
       "      <td>1610612745</td>\n",
       "      <td>HOU</td>\n",
       "      <td>Houston Rockets</td>\n",
       "      <td>21801200</td>\n",
       "      <td>2019-04-07T00:00:00</td>\n",
       "      <td>HOU vs. PHX</td>\n",
       "      <td>W</td>\n",
       "      <td>48.0</td>\n",
       "      <td>53</td>\n",
       "      <td>...</td>\n",
       "      <td>84</td>\n",
       "      <td>176</td>\n",
       "      <td>149</td>\n",
       "      <td>917</td>\n",
       "      <td>1</td>\n",
       "      <td>244</td>\n",
       "      <td>1725</td>\n",
       "      <td>4</td>\n",
       "      <td>20</td>\n",
       "      <td>1.0</td>\n",
       "    </tr>\n",
       "    <tr>\n",
       "      <th>...</th>\n",
       "      <td>...</td>\n",
       "      <td>...</td>\n",
       "      <td>...</td>\n",
       "      <td>...</td>\n",
       "      <td>...</td>\n",
       "      <td>...</td>\n",
       "      <td>...</td>\n",
       "      <td>...</td>\n",
       "      <td>...</td>\n",
       "      <td>...</td>\n",
       "      <td>...</td>\n",
       "      <td>...</td>\n",
       "      <td>...</td>\n",
       "      <td>...</td>\n",
       "      <td>...</td>\n",
       "      <td>...</td>\n",
       "      <td>...</td>\n",
       "      <td>...</td>\n",
       "      <td>...</td>\n",
       "      <td>...</td>\n",
       "      <td>...</td>\n",
       "    </tr>\n",
       "    <tr>\n",
       "      <th>33311</th>\n",
       "      <td>2022-23</td>\n",
       "      <td>1610612766</td>\n",
       "      <td>CHA</td>\n",
       "      <td>Charlotte Hornets</td>\n",
       "      <td>22200710</td>\n",
       "      <td>2023-01-23T00:00:00</td>\n",
       "      <td>CHA @ UTA</td>\n",
       "      <td>L</td>\n",
       "      <td>48.0</td>\n",
       "      <td>38</td>\n",
       "      <td>...</td>\n",
       "      <td>1756</td>\n",
       "      <td>1368</td>\n",
       "      <td>800</td>\n",
       "      <td>294</td>\n",
       "      <td>859</td>\n",
       "      <td>1831</td>\n",
       "      <td>139</td>\n",
       "      <td>2077</td>\n",
       "      <td>2211</td>\n",
       "      <td>1.0</td>\n",
       "    </tr>\n",
       "    <tr>\n",
       "      <th>33312</th>\n",
       "      <td>2022-23</td>\n",
       "      <td>1610612746</td>\n",
       "      <td>LAC</td>\n",
       "      <td>LA Clippers</td>\n",
       "      <td>22200754</td>\n",
       "      <td>2023-01-29T00:00:00</td>\n",
       "      <td>LAC @ CLE</td>\n",
       "      <td>L</td>\n",
       "      <td>48.0</td>\n",
       "      <td>37</td>\n",
       "      <td>...</td>\n",
       "      <td>2338</td>\n",
       "      <td>1368</td>\n",
       "      <td>1444</td>\n",
       "      <td>2410</td>\n",
       "      <td>1950</td>\n",
       "      <td>926</td>\n",
       "      <td>460</td>\n",
       "      <td>2220</td>\n",
       "      <td>2339</td>\n",
       "      <td>1.0</td>\n",
       "    </tr>\n",
       "    <tr>\n",
       "      <th>33313</th>\n",
       "      <td>2018-19</td>\n",
       "      <td>1610612741</td>\n",
       "      <td>CHI</td>\n",
       "      <td>Chicago Bulls</td>\n",
       "      <td>21801090</td>\n",
       "      <td>2019-03-23T00:00:00</td>\n",
       "      <td>CHI vs. UTA</td>\n",
       "      <td>L</td>\n",
       "      <td>48.0</td>\n",
       "      <td>33</td>\n",
       "      <td>...</td>\n",
       "      <td>2339</td>\n",
       "      <td>636</td>\n",
       "      <td>1543</td>\n",
       "      <td>1731</td>\n",
       "      <td>2091</td>\n",
       "      <td>244</td>\n",
       "      <td>1928</td>\n",
       "      <td>2439</td>\n",
       "      <td>2412</td>\n",
       "      <td>1.0</td>\n",
       "    </tr>\n",
       "    <tr>\n",
       "      <th>33314</th>\n",
       "      <td>2021-22</td>\n",
       "      <td>1610612738</td>\n",
       "      <td>BOS</td>\n",
       "      <td>Boston Celtics</td>\n",
       "      <td>22100078</td>\n",
       "      <td>2021-10-30T00:00:00</td>\n",
       "      <td>BOS @ WAS</td>\n",
       "      <td>L</td>\n",
       "      <td>58.0</td>\n",
       "      <td>44</td>\n",
       "      <td>...</td>\n",
       "      <td>1407</td>\n",
       "      <td>697</td>\n",
       "      <td>840</td>\n",
       "      <td>45</td>\n",
       "      <td>1930</td>\n",
       "      <td>2456</td>\n",
       "      <td>570</td>\n",
       "      <td>1081</td>\n",
       "      <td>1321</td>\n",
       "      <td>1.0</td>\n",
       "    </tr>\n",
       "    <tr>\n",
       "      <th>33315</th>\n",
       "      <td>2013-14</td>\n",
       "      <td>1610612763</td>\n",
       "      <td>MEM</td>\n",
       "      <td>Memphis Grizzlies</td>\n",
       "      <td>21300454</td>\n",
       "      <td>2013-12-30T00:00:00</td>\n",
       "      <td>MEM vs. CHI</td>\n",
       "      <td>L</td>\n",
       "      <td>48.0</td>\n",
       "      <td>35</td>\n",
       "      <td>...</td>\n",
       "      <td>1681</td>\n",
       "      <td>2280</td>\n",
       "      <td>82</td>\n",
       "      <td>537</td>\n",
       "      <td>2354</td>\n",
       "      <td>2219</td>\n",
       "      <td>1001</td>\n",
       "      <td>1931</td>\n",
       "      <td>1417</td>\n",
       "      <td>1.0</td>\n",
       "    </tr>\n",
       "  </tbody>\n",
       "</table>\n",
       "<p>33316 rows × 57 columns</p>\n",
       "</div>"
      ],
      "text/plain": [
       "      SEASON_YEAR     TEAM_ID TEAM_ABBREVIATION               TEAM_NAME  \\\n",
       "0         2022-23  1610612744               GSW   Golden State Warriors   \n",
       "1         2020-21  1610612749               MIL         Milwaukee Bucks   \n",
       "2         2013-14  1610612751               BKN           Brooklyn Nets   \n",
       "3         2013-14  1610612757               POR  Portland Trail Blazers   \n",
       "4         2018-19  1610612745               HOU         Houston Rockets   \n",
       "...           ...         ...               ...                     ...   \n",
       "33311     2022-23  1610612766               CHA       Charlotte Hornets   \n",
       "33312     2022-23  1610612746               LAC             LA Clippers   \n",
       "33313     2018-19  1610612741               CHI           Chicago Bulls   \n",
       "33314     2021-22  1610612738               BOS          Boston Celtics   \n",
       "33315     2013-14  1610612763               MEM       Memphis Grizzlies   \n",
       "\n",
       "        GAME_ID            GAME_DATE      MATCHUP WL   MIN  FGM  ...  \\\n",
       "0      22201230  2023-04-09T00:00:00    GSW @ POR  W  48.0   58  ...   \n",
       "1      22000051  2020-12-29T00:00:00    MIL @ MIA  W  48.0   51  ...   \n",
       "2      21300359  2013-12-16T00:00:00  BKN vs. PHI  W  48.0   47  ...   \n",
       "3      21300347  2013-12-14T00:00:00    POR @ PHI  W  48.0   52  ...   \n",
       "4      21801200  2019-04-07T00:00:00  HOU vs. PHX  W  48.0   53  ...   \n",
       "...         ...                  ...          ... ..   ...  ...  ...   \n",
       "33311  22200710  2023-01-23T00:00:00    CHA @ UTA  L  48.0   38  ...   \n",
       "33312  22200754  2023-01-29T00:00:00    LAC @ CLE  L  48.0   37  ...   \n",
       "33313  21801090  2019-03-23T00:00:00  CHI vs. UTA  L  48.0   33  ...   \n",
       "33314  22100078  2021-10-30T00:00:00    BOS @ WAS  L  58.0   44  ...   \n",
       "33315  21300454  2013-12-30T00:00:00  MEM vs. CHI  L  48.0   35  ...   \n",
       "\n",
       "       AST_RANK  TOV_RANK  STL_RANK  BLK_RANK  BLKA_RANK  PF_RANK  PFD_RANK  \\\n",
       "0             1      1578        55       512        457      678      2455   \n",
       "1           146      1636        33      1830       1361     1552      1220   \n",
       "2            22      2280       406      1979          1     1004       453   \n",
       "3             2      2065       628       204       1269      272      2190   \n",
       "4            84       176       149       917          1      244      1725   \n",
       "...         ...       ...       ...       ...        ...      ...       ...   \n",
       "33311      1756      1368       800       294        859     1831       139   \n",
       "33312      2338      1368      1444      2410       1950      926       460   \n",
       "33313      2339       636      1543      1731       2091      244      1928   \n",
       "33314      1407       697       840        45       1930     2456       570   \n",
       "33315      1681      2280        82       537       2354     2219      1001   \n",
       "\n",
       "       PTS_RANK  PLUS_MINUS_RANK  AVAILABLE_FLAG  \n",
       "0             3                1             1.0  \n",
       "1            14                7             1.0  \n",
       "2            19               12             1.0  \n",
       "3             4               15             1.0  \n",
       "4             4               20             1.0  \n",
       "...         ...              ...             ...  \n",
       "33311      2077             2211             1.0  \n",
       "33312      2220             2339             1.0  \n",
       "33313      2439             2412             1.0  \n",
       "33314      1081             1321             1.0  \n",
       "33315      1931             1417             1.0  \n",
       "\n",
       "[33316 rows x 57 columns]"
      ]
     },
     "execution_count": 104,
     "metadata": {},
     "output_type": "execute_result"
    }
   ],
   "source": [
    "df"
   ]
  },
  {
   "cell_type": "code",
   "execution_count": 105,
   "metadata": {},
   "outputs": [
    {
     "name": "stdout",
     "output_type": "stream",
     "text": [
      "POR\n"
     ]
    }
   ],
   "source": [
    "## Finding the oppponent. Used previous knowledge for this.\n",
    "\n",
    "var = df['MATCHUP'][0][-3:]\n",
    "print(var) \n",
    "\n",
    "## Create a column with all of the opponents\n",
    "\n",
    "def opponent(df):\n",
    "    data = []\n",
    "    for i in range(len(df)):\n",
    "        var = df['MATCHUP'][i][-3:]\n",
    "        d = {'OPP': var}\n",
    "        data.append(d)\n",
    "    new_df = pd.DataFrame(data)\n",
    "    df = pd.concat([df,new_df], axis = 1)\n",
    "    return df\n",
    "\n",
    "df = opponent(df)"
   ]
  },
  {
   "cell_type": "code",
   "execution_count": 106,
   "metadata": {},
   "outputs": [],
   "source": [
    "## Create a column with the Team's Conference and Opponent's Conference. Create a function that stores a team's conference and their opponent's conference in two new columns\n",
    "\n",
    "def conference_sorter(df):\n",
    "    data = []\n",
    "    for i in range(len(df)):\n",
    "        if df['OPP'][i] == 'BOS': ## east teams start here\n",
    "            var = 'east'\n",
    "        elif df['OPP'][i] == 'ORL':\n",
    "            var = 'east'\n",
    "        elif df['OPP'][i] == 'NYK':\n",
    "            var = 'east'\n",
    "        elif df['OPP'][i] == 'IND':\n",
    "            var = 'east'\n",
    "        elif df['OPP'][i] == 'BKN':\n",
    "            var = 'east'\n",
    "        elif df['OPP'][i] == 'ATL':\n",
    "            var = 'east'\n",
    "        elif df['OPP'][i] == 'MIA':\n",
    "            var = 'east'\n",
    "        elif df['OPP'][i] == 'CHI':\n",
    "            var = 'east'\n",
    "        elif df['OPP'][i] == 'CHA':\n",
    "            var = 'east'\n",
    "        elif df['OPP'][i] == 'MIL':\n",
    "            var = 'east'\n",
    "        elif df['OPP'][i] == 'WAS':\n",
    "            var = 'east'\n",
    "        elif df['OPP'][i] == 'PHI':\n",
    "            var = 'east'\n",
    "        elif df['OPP'][i] == 'TOR':\n",
    "            var = 'east'\n",
    "        elif df['OPP'][i] == 'CLE':\n",
    "            var = 'east'\n",
    "        elif df['OPP'][i] == 'DET':\n",
    "            var = 'east'\n",
    "        elif df['OPP'][i] == 'HOU':  ## west teams start here\n",
    "            var = 'west'\n",
    "        elif df['OPP'][i] == 'DEN':\n",
    "            var = 'west'\n",
    "        elif df['OPP'][i] == 'GSW':\n",
    "            var = 'west'\n",
    "        elif df['OPP'][i] == 'OKC':\n",
    "            var = 'west'\n",
    "        elif df['OPP'][i] == 'MEM':\n",
    "            var = 'west'\n",
    "        elif df['OPP'][i] == 'LAL':\n",
    "            var = 'west'\n",
    "        elif df['OPP'][i] == 'LAC':\n",
    "            var = 'west'\n",
    "        elif df['OPP'][i] == 'MIN':\n",
    "            var = 'west'\n",
    "        elif df['OPP'][i] == 'SAC':\n",
    "            var = 'west'\n",
    "        elif df['OPP'][i] == 'DAL':\n",
    "            var = 'west'\n",
    "        elif df['OPP'][i] == 'SAS':\n",
    "            var = 'west'\n",
    "        elif df['OPP'][i] == 'PHI':\n",
    "            var = 'west'\n",
    "        elif df['OPP'][i] == 'POR':\n",
    "            var = 'west'\n",
    "        elif df['OPP'][i] == 'NOP':\n",
    "            var = 'west'\n",
    "        elif df['OPP'][i] == 'UTA':\n",
    "            var = 'west'\n",
    "        \n",
    "        \n",
    "        if df['TEAM_ABBREVIATION'][i] == 'BOS':  ## east teams start here for TEAM Conference\n",
    "            var2 = 'east'\n",
    "        elif df['TEAM_ABBREVIATION'][i] == 'ORL':\n",
    "            var2 = 'east'\n",
    "        elif df['TEAM_ABBREVIATION'][i] == 'NYK':\n",
    "            var2 = 'east'\n",
    "        elif df['TEAM_ABBREVIATION'][i] == 'IND':\n",
    "            var2 = 'east'\n",
    "        elif df['TEAM_ABBREVIATION'][i] == 'BKN':\n",
    "            var2 = 'east'\n",
    "        elif df['TEAM_ABBREVIATION'][i] == 'ATL':\n",
    "            var2 = 'east'\n",
    "        elif df['TEAM_ABBREVIATION'][i] == 'MIA':\n",
    "            var2 = 'east'\n",
    "        elif df['TEAM_ABBREVIATION'][i] == 'CHI':\n",
    "            var2 = 'east'\n",
    "        elif df['TEAM_ABBREVIATION'][i] == 'CHA':\n",
    "            var2 = 'east'\n",
    "        elif df['TEAM_ABBREVIATION'][i] == 'MIL':\n",
    "            var2 = 'east'\n",
    "        elif df['TEAM_ABBREVIATION'][i] == 'WAS':\n",
    "            var2 = 'east'\n",
    "        elif df['TEAM_ABBREVIATION'][i] == 'PHI':\n",
    "            var2 = 'east'\n",
    "        elif df['TEAM_ABBREVIATION'][i] == 'TOR':\n",
    "            var2 = 'east'\n",
    "        elif df['TEAM_ABBREVIATION'][i] == 'CLE':\n",
    "            var2 = 'east'\n",
    "        elif df['TEAM_ABBREVIATION'][i] == 'DET':\n",
    "            var2 = 'east'\n",
    "        elif df['TEAM_ABBREVIATION'][i] == 'HOU':  ## west teams start here\n",
    "            var2 = 'west'\n",
    "        elif df['TEAM_ABBREVIATION'][i] == 'DEN':\n",
    "            var2 = 'west'\n",
    "        elif df['TEAM_ABBREVIATION'][i] == 'GSW':\n",
    "            var2 = 'west'\n",
    "        elif df['TEAM_ABBREVIATION'][i] == 'OKC':\n",
    "            var2 = 'west'\n",
    "        elif df['TEAM_ABBREVIATION'][i] == 'MEM':\n",
    "            var2 = 'west'\n",
    "        elif df['TEAM_ABBREVIATION'][i] == 'LAL':\n",
    "            var2 = 'west'\n",
    "        elif df['TEAM_ABBREVIATION'][i] == 'LAC':\n",
    "            var2 = 'west'\n",
    "        elif df['TEAM_ABBREVIATION'][i] == 'MIN':\n",
    "            var2 = 'west'\n",
    "        elif df['TEAM_ABBREVIATION'][i] == 'SAC':\n",
    "            var2 = 'west'\n",
    "        elif df['TEAM_ABBREVIATION'][i] == 'DAL':\n",
    "            var2 = 'west'\n",
    "        elif df['TEAM_ABBREVIATION'][i] == 'SAS':\n",
    "            var2 = 'west'\n",
    "        elif df['TEAM_ABBREVIATION'][i] == 'PHI':\n",
    "            var2 = 'west'\n",
    "        elif df['TEAM_ABBREVIATION'][i] == 'POR':\n",
    "            var2 = 'west'\n",
    "        elif df['TEAM_ABBREVIATION'][i] == 'NOP':\n",
    "            var2 = 'west'\n",
    "        elif df['TEAM_ABBREVIATION'][i] == 'UTA':\n",
    "            var2 = 'west'\n",
    "        d = {'TEAM_CONF': var2, 'OPPONENT_CONF': var}\n",
    "        data.append(d)\n",
    "\n",
    "    df_new = pd.DataFrame(data)\n",
    "    df_final = pd.concat([df,df_new], axis = 1)\n",
    "    return df_final\n",
    "\n",
    "df = conference_sorter(df)"
   ]
  },
  {
   "cell_type": "code",
   "execution_count": 107,
   "metadata": {},
   "outputs": [],
   "source": [
    "## Create Win tally for west and east. Similar to the win tally in Part I. \n",
    "\n",
    "def wintally(df):\n",
    "    data = []\n",
    "    for i in range (len(df)):\n",
    "        if (df['WL'][i] == 'W') & (df['TEAM_CONF'][i] == 'west'):  ## Win case 1 for west\n",
    "            count = 1\n",
    "        elif (df['WL'][i] == 'L') & (df['TEAM_CONF'][i] == 'east'): ## Win case 2 for west\n",
    "            count = 1\n",
    "        else:\n",
    "            count = 0  ## loss for west\n",
    "        \n",
    "        \n",
    "        if (df['WL'][i] == 'W') & (df['TEAM_CONF'][i] == 'east'): ## Win case 1 for east\n",
    "            count2 = 1\n",
    "        elif (df['WL'][i] == 'L') & (df['TEAM_CONF'][i] == 'west'): ## Win case 2 for east\n",
    "            count2 = 1\n",
    "        else:\n",
    "            count2 = 0  ## loss for east\n",
    "        d = {'west_wins': count, 'east_wins': count2}\n",
    "        data.append(d)\n",
    "    g = pd.DataFrame(data)\n",
    "    df_final = pd.concat([df,g], axis = 1)\n",
    "\n",
    "    return df_final\n",
    "\n",
    "df = wintally(df)\n"
   ]
  },
  {
   "cell_type": "code",
   "execution_count": 108,
   "metadata": {},
   "outputs": [],
   "source": [
    "## Filter for only out of conference matchups (east vs. west or west vs. east)\n",
    "\n",
    "NonConGames = df[(df['TEAM_CONF']) != (df['OPPONENT_CONF'])]\n",
    "\n",
    "## Separate non conference matchups by conference. This is only used for the standard error calculation which requires the size of each sample. \n",
    "\n",
    "NonConGames_west = NonConGames[NonConGames['TEAM_CONF'] == 'west']\n",
    "NonConGames_east = NonConGames[NonConGames['TEAM_CONF'] == 'east']"
   ]
  },
  {
   "cell_type": "code",
   "execution_count": 109,
   "metadata": {},
   "outputs": [
    {
     "name": "stdout",
     "output_type": "stream",
     "text": [
      "1.0\n"
     ]
    },
    {
     "data": {
      "text/plain": [
       "'West win rate: 0.5561561084174549. East win rate: 0.4438438915825451. Test Statistic: 12.677200226264244. P-Value: 0.0'"
      ]
     },
     "execution_count": 109,
     "metadata": {},
     "output_type": "execute_result"
    }
   ],
   "source": [
    "## Finding test statistics and p-value\n",
    "\n",
    "from scipy.stats import norm\n",
    "\n",
    "west_winrate = NonConGames['west_wins'].sum() / len(NonConGames)\n",
    "east_winrate = NonConGames['east_wins'].sum() / len(NonConGames)\n",
    "\n",
    "print(west_winrate + east_winrate) ## Checking if this equals 1. \n",
    "\n",
    "SD_west = NonConGames['west_wins'].std()\n",
    "SD_east = NonConGames['east_wins'].std()\n",
    "\n",
    "SE_west = SD_west / len(NonConGames_west)**0.5 \n",
    "SE_east = SD_east / len(NonConGames_east)**0.5\n",
    "\n",
    "test_stat = ((west_winrate - east_winrate) - 0) / ((((SE_west)**2 + (SE_east)**2))**0.5)\n",
    "\n",
    "p = 1 - norm.cdf(test_stat)\n",
    "\n",
    "summary_of_test = f'West win rate: {west_winrate}. East win rate: {east_winrate}. Test Statistic: {test_stat}. P-Value: {p}'\n",
    "summary_of_test"
   ]
  },
  {
   "cell_type": "markdown",
   "metadata": {},
   "source": [
    "____________________________________________________________________________________________________________________________________"
   ]
  },
  {
   "cell_type": "markdown",
   "metadata": {},
   "source": [
    "<h1> Section 6: Data Visualization <h1>"
   ]
  },
  {
   "cell_type": "code",
   "execution_count": 110,
   "metadata": {},
   "outputs": [
    {
     "data": {
      "text/html": [
       "<div>\n",
       "<style scoped>\n",
       "    .dataframe tbody tr th:only-of-type {\n",
       "        vertical-align: middle;\n",
       "    }\n",
       "\n",
       "    .dataframe tbody tr th {\n",
       "        vertical-align: top;\n",
       "    }\n",
       "\n",
       "    .dataframe thead th {\n",
       "        text-align: right;\n",
       "    }\n",
       "</style>\n",
       "<table border=\"1\" class=\"dataframe\">\n",
       "  <thead>\n",
       "    <tr style=\"text-align: right;\">\n",
       "      <th></th>\n",
       "      <th>SEASON_YEAR</th>\n",
       "      <th>TEAM_ID</th>\n",
       "      <th>TEAM_ABBREVIATION</th>\n",
       "      <th>TEAM_NAME</th>\n",
       "      <th>GAME_ID</th>\n",
       "      <th>GAME_DATE</th>\n",
       "      <th>MATCHUP</th>\n",
       "      <th>WL</th>\n",
       "      <th>MIN</th>\n",
       "      <th>FGM</th>\n",
       "      <th>...</th>\n",
       "      <th>PF_RANK</th>\n",
       "      <th>PFD_RANK</th>\n",
       "      <th>PTS_RANK</th>\n",
       "      <th>PLUS_MINUS_RANK</th>\n",
       "      <th>AVAILABLE_FLAG</th>\n",
       "      <th>OPP</th>\n",
       "      <th>TEAM_CONF</th>\n",
       "      <th>OPPONENT_CONF</th>\n",
       "      <th>west_wins</th>\n",
       "      <th>east_wins</th>\n",
       "    </tr>\n",
       "  </thead>\n",
       "  <tbody>\n",
       "    <tr>\n",
       "      <th>3</th>\n",
       "      <td>2013-14</td>\n",
       "      <td>1610612757</td>\n",
       "      <td>POR</td>\n",
       "      <td>Portland Trail Blazers</td>\n",
       "      <td>21300347</td>\n",
       "      <td>2013-12-14T00:00:00</td>\n",
       "      <td>POR @ PHI</td>\n",
       "      <td>W</td>\n",
       "      <td>48.0</td>\n",
       "      <td>52</td>\n",
       "      <td>...</td>\n",
       "      <td>272</td>\n",
       "      <td>2190</td>\n",
       "      <td>4</td>\n",
       "      <td>15</td>\n",
       "      <td>1.0</td>\n",
       "      <td>PHI</td>\n",
       "      <td>west</td>\n",
       "      <td>east</td>\n",
       "      <td>1</td>\n",
       "      <td>0</td>\n",
       "    </tr>\n",
       "    <tr>\n",
       "      <th>4</th>\n",
       "      <td>2018-19</td>\n",
       "      <td>1610612745</td>\n",
       "      <td>HOU</td>\n",
       "      <td>Houston Rockets</td>\n",
       "      <td>21801200</td>\n",
       "      <td>2019-04-07T00:00:00</td>\n",
       "      <td>HOU vs. PHX</td>\n",
       "      <td>W</td>\n",
       "      <td>48.0</td>\n",
       "      <td>53</td>\n",
       "      <td>...</td>\n",
       "      <td>244</td>\n",
       "      <td>1725</td>\n",
       "      <td>4</td>\n",
       "      <td>20</td>\n",
       "      <td>1.0</td>\n",
       "      <td>PHX</td>\n",
       "      <td>west</td>\n",
       "      <td>east</td>\n",
       "      <td>1</td>\n",
       "      <td>0</td>\n",
       "    </tr>\n",
       "    <tr>\n",
       "      <th>6</th>\n",
       "      <td>2013-14</td>\n",
       "      <td>1610612757</td>\n",
       "      <td>POR</td>\n",
       "      <td>Portland Trail Blazers</td>\n",
       "      <td>21300480</td>\n",
       "      <td>2014-01-02T00:00:00</td>\n",
       "      <td>POR vs. CHA</td>\n",
       "      <td>W</td>\n",
       "      <td>48.0</td>\n",
       "      <td>54</td>\n",
       "      <td>...</td>\n",
       "      <td>2009</td>\n",
       "      <td>2446</td>\n",
       "      <td>10</td>\n",
       "      <td>33</td>\n",
       "      <td>1.0</td>\n",
       "      <td>CHA</td>\n",
       "      <td>west</td>\n",
       "      <td>east</td>\n",
       "      <td>1</td>\n",
       "      <td>0</td>\n",
       "    </tr>\n",
       "    <tr>\n",
       "      <th>9</th>\n",
       "      <td>2014-15</td>\n",
       "      <td>1610612737</td>\n",
       "      <td>ATL</td>\n",
       "      <td>Atlanta Hawks</td>\n",
       "      <td>21400939</td>\n",
       "      <td>2015-03-09T00:00:00</td>\n",
       "      <td>ATL vs. SAC</td>\n",
       "      <td>W</td>\n",
       "      <td>48.0</td>\n",
       "      <td>53</td>\n",
       "      <td>...</td>\n",
       "      <td>686</td>\n",
       "      <td>2386</td>\n",
       "      <td>21</td>\n",
       "      <td>77</td>\n",
       "      <td>1.0</td>\n",
       "      <td>SAC</td>\n",
       "      <td>east</td>\n",
       "      <td>west</td>\n",
       "      <td>0</td>\n",
       "      <td>1</td>\n",
       "    </tr>\n",
       "    <tr>\n",
       "      <th>14</th>\n",
       "      <td>2017-18</td>\n",
       "      <td>1610612743</td>\n",
       "      <td>DEN</td>\n",
       "      <td>Denver Nuggets</td>\n",
       "      <td>21700865</td>\n",
       "      <td>2018-02-15T00:00:00</td>\n",
       "      <td>DEN @ MIL</td>\n",
       "      <td>W</td>\n",
       "      <td>48.0</td>\n",
       "      <td>47</td>\n",
       "      <td>...</td>\n",
       "      <td>1836</td>\n",
       "      <td>1021</td>\n",
       "      <td>23</td>\n",
       "      <td>473</td>\n",
       "      <td>1.0</td>\n",
       "      <td>MIL</td>\n",
       "      <td>west</td>\n",
       "      <td>east</td>\n",
       "      <td>1</td>\n",
       "      <td>0</td>\n",
       "    </tr>\n",
       "    <tr>\n",
       "      <th>...</th>\n",
       "      <td>...</td>\n",
       "      <td>...</td>\n",
       "      <td>...</td>\n",
       "      <td>...</td>\n",
       "      <td>...</td>\n",
       "      <td>...</td>\n",
       "      <td>...</td>\n",
       "      <td>...</td>\n",
       "      <td>...</td>\n",
       "      <td>...</td>\n",
       "      <td>...</td>\n",
       "      <td>...</td>\n",
       "      <td>...</td>\n",
       "      <td>...</td>\n",
       "      <td>...</td>\n",
       "      <td>...</td>\n",
       "      <td>...</td>\n",
       "      <td>...</td>\n",
       "      <td>...</td>\n",
       "      <td>...</td>\n",
       "      <td>...</td>\n",
       "    </tr>\n",
       "    <tr>\n",
       "      <th>33310</th>\n",
       "      <td>2018-19</td>\n",
       "      <td>1610612746</td>\n",
       "      <td>LAC</td>\n",
       "      <td>LA Clippers</td>\n",
       "      <td>21800789</td>\n",
       "      <td>2019-02-03T00:00:00</td>\n",
       "      <td>LAC @ TOR</td>\n",
       "      <td>L</td>\n",
       "      <td>48.0</td>\n",
       "      <td>38</td>\n",
       "      <td>...</td>\n",
       "      <td>1822</td>\n",
       "      <td>115</td>\n",
       "      <td>1796</td>\n",
       "      <td>2188</td>\n",
       "      <td>1.0</td>\n",
       "      <td>TOR</td>\n",
       "      <td>west</td>\n",
       "      <td>east</td>\n",
       "      <td>0</td>\n",
       "      <td>1</td>\n",
       "    </tr>\n",
       "    <tr>\n",
       "      <th>33311</th>\n",
       "      <td>2022-23</td>\n",
       "      <td>1610612766</td>\n",
       "      <td>CHA</td>\n",
       "      <td>Charlotte Hornets</td>\n",
       "      <td>22200710</td>\n",
       "      <td>2023-01-23T00:00:00</td>\n",
       "      <td>CHA @ UTA</td>\n",
       "      <td>L</td>\n",
       "      <td>48.0</td>\n",
       "      <td>38</td>\n",
       "      <td>...</td>\n",
       "      <td>1831</td>\n",
       "      <td>139</td>\n",
       "      <td>2077</td>\n",
       "      <td>2211</td>\n",
       "      <td>1.0</td>\n",
       "      <td>UTA</td>\n",
       "      <td>east</td>\n",
       "      <td>west</td>\n",
       "      <td>1</td>\n",
       "      <td>0</td>\n",
       "    </tr>\n",
       "    <tr>\n",
       "      <th>33312</th>\n",
       "      <td>2022-23</td>\n",
       "      <td>1610612746</td>\n",
       "      <td>LAC</td>\n",
       "      <td>LA Clippers</td>\n",
       "      <td>22200754</td>\n",
       "      <td>2023-01-29T00:00:00</td>\n",
       "      <td>LAC @ CLE</td>\n",
       "      <td>L</td>\n",
       "      <td>48.0</td>\n",
       "      <td>37</td>\n",
       "      <td>...</td>\n",
       "      <td>926</td>\n",
       "      <td>460</td>\n",
       "      <td>2220</td>\n",
       "      <td>2339</td>\n",
       "      <td>1.0</td>\n",
       "      <td>CLE</td>\n",
       "      <td>west</td>\n",
       "      <td>east</td>\n",
       "      <td>0</td>\n",
       "      <td>1</td>\n",
       "    </tr>\n",
       "    <tr>\n",
       "      <th>33313</th>\n",
       "      <td>2018-19</td>\n",
       "      <td>1610612741</td>\n",
       "      <td>CHI</td>\n",
       "      <td>Chicago Bulls</td>\n",
       "      <td>21801090</td>\n",
       "      <td>2019-03-23T00:00:00</td>\n",
       "      <td>CHI vs. UTA</td>\n",
       "      <td>L</td>\n",
       "      <td>48.0</td>\n",
       "      <td>33</td>\n",
       "      <td>...</td>\n",
       "      <td>244</td>\n",
       "      <td>1928</td>\n",
       "      <td>2439</td>\n",
       "      <td>2412</td>\n",
       "      <td>1.0</td>\n",
       "      <td>UTA</td>\n",
       "      <td>east</td>\n",
       "      <td>west</td>\n",
       "      <td>1</td>\n",
       "      <td>0</td>\n",
       "    </tr>\n",
       "    <tr>\n",
       "      <th>33315</th>\n",
       "      <td>2013-14</td>\n",
       "      <td>1610612763</td>\n",
       "      <td>MEM</td>\n",
       "      <td>Memphis Grizzlies</td>\n",
       "      <td>21300454</td>\n",
       "      <td>2013-12-30T00:00:00</td>\n",
       "      <td>MEM vs. CHI</td>\n",
       "      <td>L</td>\n",
       "      <td>48.0</td>\n",
       "      <td>35</td>\n",
       "      <td>...</td>\n",
       "      <td>2219</td>\n",
       "      <td>1001</td>\n",
       "      <td>1931</td>\n",
       "      <td>1417</td>\n",
       "      <td>1.0</td>\n",
       "      <td>CHI</td>\n",
       "      <td>west</td>\n",
       "      <td>east</td>\n",
       "      <td>0</td>\n",
       "      <td>1</td>\n",
       "    </tr>\n",
       "  </tbody>\n",
       "</table>\n",
       "<p>12581 rows × 62 columns</p>\n",
       "</div>"
      ],
      "text/plain": [
       "      SEASON_YEAR     TEAM_ID TEAM_ABBREVIATION               TEAM_NAME  \\\n",
       "3         2013-14  1610612757               POR  Portland Trail Blazers   \n",
       "4         2018-19  1610612745               HOU         Houston Rockets   \n",
       "6         2013-14  1610612757               POR  Portland Trail Blazers   \n",
       "9         2014-15  1610612737               ATL           Atlanta Hawks   \n",
       "14        2017-18  1610612743               DEN          Denver Nuggets   \n",
       "...           ...         ...               ...                     ...   \n",
       "33310     2018-19  1610612746               LAC             LA Clippers   \n",
       "33311     2022-23  1610612766               CHA       Charlotte Hornets   \n",
       "33312     2022-23  1610612746               LAC             LA Clippers   \n",
       "33313     2018-19  1610612741               CHI           Chicago Bulls   \n",
       "33315     2013-14  1610612763               MEM       Memphis Grizzlies   \n",
       "\n",
       "        GAME_ID            GAME_DATE      MATCHUP WL   MIN  FGM  ...  PF_RANK  \\\n",
       "3      21300347  2013-12-14T00:00:00    POR @ PHI  W  48.0   52  ...      272   \n",
       "4      21801200  2019-04-07T00:00:00  HOU vs. PHX  W  48.0   53  ...      244   \n",
       "6      21300480  2014-01-02T00:00:00  POR vs. CHA  W  48.0   54  ...     2009   \n",
       "9      21400939  2015-03-09T00:00:00  ATL vs. SAC  W  48.0   53  ...      686   \n",
       "14     21700865  2018-02-15T00:00:00    DEN @ MIL  W  48.0   47  ...     1836   \n",
       "...         ...                  ...          ... ..   ...  ...  ...      ...   \n",
       "33310  21800789  2019-02-03T00:00:00    LAC @ TOR  L  48.0   38  ...     1822   \n",
       "33311  22200710  2023-01-23T00:00:00    CHA @ UTA  L  48.0   38  ...     1831   \n",
       "33312  22200754  2023-01-29T00:00:00    LAC @ CLE  L  48.0   37  ...      926   \n",
       "33313  21801090  2019-03-23T00:00:00  CHI vs. UTA  L  48.0   33  ...      244   \n",
       "33315  21300454  2013-12-30T00:00:00  MEM vs. CHI  L  48.0   35  ...     2219   \n",
       "\n",
       "       PFD_RANK  PTS_RANK  PLUS_MINUS_RANK  AVAILABLE_FLAG  OPP  TEAM_CONF  \\\n",
       "3          2190         4               15             1.0  PHI       west   \n",
       "4          1725         4               20             1.0  PHX       west   \n",
       "6          2446        10               33             1.0  CHA       west   \n",
       "9          2386        21               77             1.0  SAC       east   \n",
       "14         1021        23              473             1.0  MIL       west   \n",
       "...         ...       ...              ...             ...  ...        ...   \n",
       "33310       115      1796             2188             1.0  TOR       west   \n",
       "33311       139      2077             2211             1.0  UTA       east   \n",
       "33312       460      2220             2339             1.0  CLE       west   \n",
       "33313      1928      2439             2412             1.0  UTA       east   \n",
       "33315      1001      1931             1417             1.0  CHI       west   \n",
       "\n",
       "       OPPONENT_CONF  west_wins  east_wins  \n",
       "3               east          1          0  \n",
       "4               east          1          0  \n",
       "6               east          1          0  \n",
       "9               west          0          1  \n",
       "14              east          1          0  \n",
       "...              ...        ...        ...  \n",
       "33310           east          0          1  \n",
       "33311           west          1          0  \n",
       "33312           east          0          1  \n",
       "33313           west          1          0  \n",
       "33315           east          0          1  \n",
       "\n",
       "[12581 rows x 62 columns]"
      ]
     },
     "execution_count": 110,
     "metadata": {},
     "output_type": "execute_result"
    }
   ],
   "source": [
    "NonConGames"
   ]
  },
  {
   "cell_type": "code",
   "execution_count": 111,
   "metadata": {},
   "outputs": [],
   "source": [
    "## I am going to use a pivot table to compare west vs. east wins over the years. \n",
    "## But first, I need to edit our NonConGames dataframe.\n",
    "## Our win columns are separated based off of conference. \n",
    "## So, I will create a universal win-column that records 1 for a win, 0 for a loss-- regardless of conference.\n",
    "\n",
    "\n",
    "def win(df):\n",
    "    data = []\n",
    "    df = df.reset_index()\n",
    "    for i in range(len(df)):\n",
    "        if df['WL'][i] == 'W':\n",
    "            count = 1\n",
    "        else:\n",
    "            count = 0\n",
    "        d = {'wins': count}\n",
    "        data.append(d)\n",
    "    g = pd.DataFrame(data)\n",
    "    df_final = pd.concat([df,g], axis = 1)\n",
    "    return df_final\n",
    "\n",
    "NonConGames_pivot = win(NonConGames)"
   ]
  },
  {
   "cell_type": "code",
   "execution_count": 112,
   "metadata": {},
   "outputs": [
    {
     "data": {
      "text/plain": [
       "np.float64(0.6252699784017278)"
      ]
     },
     "execution_count": 112,
     "metadata": {},
     "output_type": "execute_result"
    },
    {
     "data": {
      "image/png": "[encoded data removed]",
      "text/plain": [
       "<Figure size 640x480 with 1 Axes>"
      ]
     },
     "metadata": {},
     "output_type": "display_data"
    }
   ],
   "source": [
    "## Creating pivot table and line graph\n",
    "\n",
    "summary = NonConGames_pivot.pivot_table(\n",
    "    index = 'SEASON_YEAR',\n",
    "    columns = 'TEAM_CONF',\n",
    "    values = 'wins',\n",
    "    aggfunc = 'mean')\n",
    "\n",
    "NonConGames_pivot\n",
    "\n",
    "summary.plot.line(ylabel = 'Non-Con Win Rate', xlabel = 'NBA Season', title = 'Non-Conference Matchup Win Rates for the East and West')\n",
    "\n",
    "## This is just a test to make sure the numbers align.\n",
    "\n",
    "testing = NonConGames_pivot[(NonConGames_pivot['SEASON_YEAR'] == '2013-14')]\n",
    "testing['west_wins'].sum() / len(testing)"
   ]
  },
  {
   "cell_type": "markdown",
   "metadata": {},
   "source": [
    "This visual is a graphic of the win-rate of each conference during each NBA season for out-of conference matchups only. This graph can help answer the question posed at the beginning of Section 5: Do Western Conference teams beat their Eastern Conference rivals more often? Seeing this graph, it is apparent that the western conference holds a higher win percentage against eastern conference opponents for most of the seasons in this sample. This is a visual response to my question. This is evidence that the western conference may be stronger than the eastern conference."
   ]
  },
  {
   "cell_type": "code",
   "execution_count": 113,
   "metadata": {},
   "outputs": [
    {
     "data": {
      "text/plain": [
       "<Axes: title={'center': 'Average Number of 3 pointers Made per Conference per Game'}, xlabel='NBA Season', ylabel='3PM'>"
      ]
     },
     "execution_count": 113,
     "metadata": {},
     "output_type": "execute_result"
    },
    {
     "data": {
      "image/png": "[encoded data removed]",
      "text/plain": [
       "<Figure size 640x480 with 1 Axes>"
      ]
     },
     "metadata": {},
     "output_type": "display_data"
    }
   ],
   "source": [
    "## Checking other metrics with the pivot table.\n",
    "\n",
    "summary2 = NonConGames_pivot.pivot_table( \n",
    "    index = 'SEASON_YEAR',\n",
    "    columns = 'TEAM_CONF',\n",
    "    values = 'FG3M',\n",
    "    aggfunc = 'mean')\n",
    "\n",
    "summary2.plot.line(xlabel = 'NBA Season', ylabel = '3PM', title = 'Average Number of 3 pointers Made per Conference per Game')"
   ]
  },
  {
   "cell_type": "markdown",
   "metadata": {},
   "source": [
    "Question: \"Why does the west win more out of conference games than the east?\" \n",
    "\n",
    "Summary: I tried to answer this by looking at the most revolutionary weapon in basketball: the 3 pointer. It seems for a most of the graph, the western conference has consistently been ahead or not far behind in 3 pointers made per game against their eastern conference foes. In out of conference matchups, this visual shows that the west is proven to have a stronger 3 point shot. \n",
    "\n",
    "Reasoning: This could partly be due to a few characters: Stephen Curry and James Harden. Curry lead the western conference Golden State Warriors for a large majority of these years by shooting (and making) a large volume of 3 pointers. In Harden's peak performance, he lead the western conference Houston Rockets with an alarming number of 3PM per game. \n",
    "\n",
    "It is interesting to note that the league improves its 3PM per game drastically, but the west does so at a higher rate. "
   ]
  },
  {
   "cell_type": "code",
   "execution_count": 114,
   "metadata": {},
   "outputs": [
    {
     "data": {
      "text/plain": [
       "<Axes: title={'center': 'Average Number of Assists per Conference per Game'}, xlabel='NBA Season', ylabel='Assists'>"
      ]
     },
     "execution_count": 114,
     "metadata": {},
     "output_type": "execute_result"
    },
    {
     "data": {
      "image/png": "[encoded data removed]",
      "text/plain": [
       "<Figure size 640x480 with 1 Axes>"
      ]
     },
     "metadata": {},
     "output_type": "display_data"
    }
   ],
   "source": [
    "summary3 = NonConGames_pivot.pivot_table(\n",
    "    index = 'SEASON_YEAR',\n",
    "    columns = 'TEAM_CONF',\n",
    "    values = 'AST',\n",
    "    aggfunc = 'mean')\n",
    "\n",
    "summary3.plot.line(xlabel = 'NBA Season', ylabel = 'Assists', title = 'Average Number of Assists per Conference per Game')"
   ]
  },
  {
   "cell_type": "markdown",
   "metadata": {},
   "source": [
    "____________________________________________________________________________________________________________________________________"
   ]
  },
  {
   "cell_type": "markdown",
   "metadata": {},
   "source": [
    "Summary: Another factor to look at team success is their ability to share the ball and find open teammates for baskets. Assists constitute this idea. So, I looked at the number of assists per game per conference. The west, again, holds an advantage over the east in assists per game. An increase in assists may be a factor in an increased win rate (buckets = wins?). I would have to use a linear regression analysis to tell for sure, but this graphic gives unofficial evidence that assists may be a contributing factor to the west's greater win rate against their eastern conference oponnents.  "
   ]
  },
  {
   "cell_type": "markdown",
   "metadata": {},
   "source": [
    "<h1> Section 7: Summary <h1>"
   ]
  },
  {
   "cell_type": "markdown",
   "metadata": {},
   "source": [
    "**Purpose:**\n",
    "\n",
    "The purpose of this investigation was to find whether or not the Western Conference was better than the Eastern Conference. The winner of an in-conference games do not tell much about the strength of each conference because they are just playing within the conference. However, the winner of an out-of conference matchup tells a greater story about the strength of the winner's conference and weakness in the other. Based upon this realization, I was able to able to answer my question: \"Do Western Conference teams beat their Eastern Conference rivals more often?\". **Using a dataset that included every NBA game from the 2010-11 NBA Season to 2022-23 NBA Season, I performed a 2 sample, 1 sided z test.**\n",
    "\n",
    "**Hypothesis Test Findings:**\n",
    "\n",
    "To restate the hypothesis from Section 5: \n",
    "\n",
    "Null: $p1$ = $p2$. Alternative $p1$ > $p2$. Where, $p1$: 'Western Conference out of conference win rate' and $p2$: 'Eastern Conference out of conference win rate'.\n",
    "\n",
    "Using this dataset as a sample of the entire NBA's history, the following win rates were found $\\hat{p}1 $ = 0.556 and $\\hat{p}2 $ = 0.444, which yields a **sample statistic of 0.112**. Just from these numbers, it seems like the Western Conference is stronger than the Eastern Conference. The result of the two sample, one sided z test was a **test statistic of 12.677**. Using the normal distribution, this results in a **p-value $\\approx$  0**.\n",
    "\n",
    "**Conclusion:**\n",
    "\n",
    "Because the p-value < 0.05, the null hypothesis is rejected. There is statistical evidence that the true Western Conference win rate in out of conference matchups is greater than the true Eastern Conference win rate in out of conference matchups.  \n",
    "\n",
    "\n",
    "From this investigation, I have found evidence that the Western Confernce is stronger than the Eastern Conference. This outcome is also supported with visuals, as shown in Section 6. Another observation that can be drawn from this z test is the large disparity in win rates. The data shows that the Western Conference wins its out of conference matchups 11.2% times more than the East. Because the dataset is large (about 12500 games), this diparity is more impressive. All of this culminates to a 12.677 test statistic, which is extremely high. There is no question that the Western Conference's true out of conference win rate is greater than the East's. \n",
    "\n",
    "**Note to all internet trolls:**\n",
    "\n",
    "This here is **REAL EVIDENCE** that the Western Conference is significantly stronger than the Eastern Conference\n",
    "\n"
   ]
  },
  {
   "cell_type": "markdown",
   "metadata": {},
   "source": [
    "____________________________________________________________________________________________________________________________________"
   ]
  },
  {
   "cell_type": "markdown",
   "metadata": {},
   "source": [
    "<h1>Section 8: Improvements and Corrections to Part 1: <h1>\n",
    "\n"
   ]
  },
  {
   "cell_type": "markdown",
   "metadata": {},
   "source": [
    "**Corrected the all 'Section' dividers in Part I by making them headers.** \n"
   ]
  },
  {
   "cell_type": "markdown",
   "metadata": {},
   "source": [
    "Note:\n",
    "\n",
    "I really enjoyed this class. Thank you to all faculty for this great course and getting me hooked on finding answers to my own questions with real data! "
   ]
  }
 ],
 "metadata": {
  "kernelspec": {
   "display_name": "Python 3",
   "language": "python",
   "name": "python3"
  },
  "language_info": {
   "codemirror_mode": {
    "name": "ipython",
    "version": 3
   },
   "file_extension": ".py",
   "mimetype": "text/x-python",
   "name": "python",
   "nbconvert_exporter": "python",
   "pygments_lexer": "ipython3",
   "version": "3.12.8"
  }
 },
 "nbformat": 4,
 "nbformat_minor": 2
}
